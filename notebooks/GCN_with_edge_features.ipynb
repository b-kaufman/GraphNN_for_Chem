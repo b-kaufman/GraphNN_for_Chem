{
 "cells": [
  {
   "cell_type": "code",
   "execution_count": 1,
   "metadata": {},
   "outputs": [],
   "source": [
    "import sys\n",
    "import os\n",
    "import pandas as pd\n",
    "#change to where you pull to\n",
    "sys.path.append('/home/bmk/Research/Projects/new_graphNN_for_Chem/')\n",
    "import moltensor\n",
    "import dataset_utils\n",
    "from sparse_data import collate_sparse\n",
    "from models import EdgeConditionedConv\n",
    "from datasets import MolSparseDataset\n",
    "\n",
    "import torch\n",
    "import torch.nn.functional as F\n",
    "from torch.utils.data import DataLoader\n",
    "\n",
    "import numpy as np\n",
    "from sklearn.metrics import roc_curve, auc\n",
    "import matplotlib.pyplot as plt"
   ]
  },
  {
   "cell_type": "code",
   "execution_count": 2,
   "metadata": {},
   "outputs": [],
   "source": [
    "# set flag to true to make new tensors\n",
    "\n",
    "#path to dataframe\n",
    "smiles_file = \"/home/bmk/Research/Projects/new_graphNN_for_Chem/datasets/HIV.csv\"\n",
    "#path to where to store tensors\n",
    "data_dir = '/home/bmk/Research/Projects/new_graphNN_for_Chem/tensors/edge_net_test'\n",
    "#path to where to save model\n",
    "m_dir = '/home/bmk/Research/Projects/new_graphNN_for_Chem/models/edge_net_test'\n",
    "\n",
    "# set flag to true to build tensors\n",
    "construct_tensor_dir = False\n",
    "if construct_tensor_dir:\n",
    "    moltensor.create_and_write_mol_graph_tensors(smiles_file, data_dir, 'HIV_active',smiles_col='smiles', tensor_type='torch',delim=',')\n",
    "    dataset_utils.split_data_dir(data_dir)"
   ]
  },
  {
   "cell_type": "code",
   "execution_count": 3,
   "metadata": {},
   "outputs": [
    {
     "data": {
      "text/plain": [
       "EdgeConditionedConv(\n",
       "  (conv_layers): ModuleList(\n",
       "    (0): SparseNodeEdgeConv (55 -> 32)\n",
       "    (1): SparseNodeEdgeConv (32 -> 16)\n",
       "  )\n",
       "  (fc_layers): ModuleList(\n",
       "    (0): Linear(in_features=16, out_features=16, bias=True)\n",
       "    (1): Linear(in_features=16, out_features=2, bias=True)\n",
       "  )\n",
       ")"
      ]
     },
     "execution_count": 3,
     "metadata": {},
     "output_type": "execute_result"
    }
   ],
   "source": [
    "# builds model and sets up data\n",
    "device = 'cuda'\n",
    "train_dset = MolSparseDataset(os.path.join(data_dir, 'train'))\n",
    "valid_dset = MolSparseDataset(os.path.join(data_dir, 'valid'))\n",
    "test_dset = MolSparseDataset(os.path.join(data_dir, 'test'))\n",
    "train_load = DataLoader(train_dset, 32, collate_fn=lambda x: collate_sparse(x,edge_features=True), shuffle=True)\n",
    "valid_load = DataLoader(valid_dset, 32, collate_fn=lambda x: collate_sparse(x,edge_features=True))\n",
    "test_load = DataLoader(test_dset, 32, collate_fn=lambda x: collate_sparse(x,edge_features=True))\n",
    "\n",
    "input_node_features = 55\n",
    "input_edge_features = 4\n",
    "num_conv_layers = 2\n",
    "conv_output_dims = [32,16]\n",
    "num_edge_mlp_layers = 2\n",
    "e_mlp_layer_dims = [16,16]\n",
    "num_fc_layers = 2\n",
    "fc_layer_dims = [16,2]\n",
    "\n",
    "model = EdgeConditionedConv(input_node_features, input_edge_features, num_conv_layers,\n",
    "                            conv_output_dims, num_edge_mlp_layers, e_mlp_layer_dims, num_fc_layers, fc_layer_dims)\n",
    "optimizer = torch.optim.Adam(model.parameters(), lr=.001)\n",
    "model.to(device)"
   ]
  },
  {
   "cell_type": "code",
   "execution_count": 4,
   "metadata": {},
   "outputs": [
    {
     "name": "stdout",
     "output_type": "stream",
     "text": [
      "epochs: 1 \t epoch loss: 197.24392453953624 \t epoch avg. loss: 0.006850888282433269 \t validation loss: 49.996664080768824\n",
      "epochs: 2 \t epoch loss: 173.3679043352604 \t epoch avg. loss: 0.006021600650733229 \t validation loss: 47.019572496414185\n",
      "epochs: 3 \t epoch loss: 158.74179842323065 \t epoch avg. loss: 0.005513590997993493 \t validation loss: 41.602655969560146\n",
      "epochs: 4 \t epoch loss: 138.14617017656565 \t epoch avg. loss: 0.004798241470479165 \t validation loss: 35.805808901786804\n",
      "epochs: 5 \t epoch loss: 125.51848809234798 \t epoch avg. loss: 0.004359643225047688 \t validation loss: 33.58360438980162\n",
      "epochs: 6 \t epoch loss: 121.43495377898216 \t epoch avg. loss: 0.0042178095161328946 \t validation loss: 32.91784504055977\n",
      "epochs: 7 \t epoch loss: 119.58779344893992 \t epoch avg. loss: 0.004153651955435376 \t validation loss: 32.78306098096073\n",
      "epochs: 8 \t epoch loss: 117.89491403102875 \t epoch avg. loss: 0.004094853045431862 \t validation loss: 32.77139536291361\n",
      "epochs: 9 \t epoch loss: 117.66030588932335 \t epoch avg. loss: 0.0040867043829433975 \t validation loss: 32.48002415150404\n",
      "epochs: 10 \t epoch loss: 116.59013686608523 \t epoch avg. loss: 0.004049534120596201 \t validation loss: 32.258478900417686\n",
      "epochs: 11 \t epoch loss: 116.02265157736838 \t epoch avg. loss: 0.004029823610759209 \t validation loss: 32.79388163611293\n",
      "epochs: 12 \t epoch loss: 115.53123777545989 \t epoch avg. loss: 0.004012755297678437 \t validation loss: 32.83376175258309\n",
      "epochs: 13 \t epoch loss: 114.85017057787627 \t epoch avg. loss: 0.003989099738733503 \t validation loss: 32.83982869423926\n",
      "epochs: 14 \t epoch loss: 113.67976060137153 \t epoch avg. loss: 0.0039484477997072534 \t validation loss: 32.5570281483233\n",
      "epochs: 15 \t epoch loss: 113.34131227154285 \t epoch avg. loss: 0.003936692448040806 \t validation loss: 32.57165122497827\n",
      "5 epochs without improvement stopping training\n"
     ]
    }
   ],
   "source": [
    "# train model with early stop\n",
    "\n",
    "epochs_without_improvement = 0\n",
    "total_epochs = 0\n",
    "best_val_loss = None\n",
    "best_loss = None\n",
    "\n",
    "while epochs_without_improvement < 5:\n",
    "    \n",
    "    # iterate through train_loader once\n",
    "    model.train()\n",
    "    epoch_loss = 0\n",
    "    total_graphs = 0\n",
    "    \n",
    "    for batch in train_load:\n",
    "        optimizer.zero_grad()\n",
    "        # Need to do this with current implementation\n",
    "        batch.make_edge_mask_dense()\n",
    "        batch = batch.to(device)\n",
    "        output = model(batch)\n",
    "        loss = F.binary_cross_entropy(output, batch.y)\n",
    "        loss.backward()\n",
    "        epoch_loss += loss.item()\n",
    "        total_graphs += batch.num_graphs\n",
    "        optimizer.step()\n",
    "    train_avg_loss = epoch_loss / total_graphs\n",
    "    torch.cuda.empty_cache()\n",
    "    \n",
    "    # evaluate on validation\n",
    "    model.eval()\n",
    "    val_loss = 0\n",
    "    total_graphs = 0\n",
    "    for batch in valid_load:\n",
    "        batch = batch.to(device)\n",
    "        batch.make_edge_mask_dense()\n",
    "        output = model(batch)\n",
    "        loss = F.binary_cross_entropy(output, batch.y)\n",
    "        val_loss += loss.item()\n",
    "        total_graphs += batch.num_graphs\n",
    "    val_avg_loss = val_loss / total_graphs\n",
    "    \n",
    "    # check for improvement\n",
    "    if best_loss is None or val_loss < best_loss:\n",
    "        epochs_without_improvement = 0\n",
    "        best_loss = val_loss\n",
    "        # if improved save model checkpoint\n",
    "        if not os.path.exists(m_dir):\n",
    "            os.makedirs(m_dir)\n",
    "        model_file = 'checkpoint_epoch__' + str(total_epochs) + '.pt'\n",
    "        check_path = os.path.join(m_dir, model_file)\n",
    "        torch.save({\n",
    "            'epoch': total_epochs + 1,\n",
    "            'model_state_dict': model.state_dict(),\n",
    "            'optimizer_state_dict': optimizer.state_dict()\n",
    "        }, check_path)\n",
    "    else:\n",
    "        epochs_without_improvement += 1\n",
    "    total_epochs += 1\n",
    "    print(\"epochs: {} \\t epoch loss: {} \\t epoch avg. loss: {} \\t validation loss: {}\".format(total_epochs,\n",
    "                                                                                             epoch_loss,train_avg_loss,val_loss))    \n",
    "    \n",
    "print(\"{} epochs without improvement stopping training\".format(epochs_without_improvement))"
   ]
  },
  {
   "cell_type": "code",
   "execution_count": 5,
   "metadata": {},
   "outputs": [
    {
     "name": "stdout",
     "output_type": "stream",
     "text": [
      "test set loss: 15.969936691224575\n"
     ]
    }
   ],
   "source": [
    "# test model\n",
    "model.eval()\n",
    "test_loss = 0\n",
    "total_graphs = 0\n",
    "test_set_size = len(os.listdir(os.path.join(data_dir, 'test')))\n",
    "predictions = np.zeros((test_set_size, 2))\n",
    "accum = 0\n",
    "\n",
    "for batch in test_load:\n",
    "    batch.to(device)\n",
    "    batch.make_edge_mask_dense()\n",
    "    output = model(batch)\n",
    "    loss = F.binary_cross_entropy(output, batch.y)\n",
    "    test_loss += loss.item()\n",
    "    \n",
    "    # get predictions\n",
    "    new_accum = accum + batch['num_graphs']\n",
    "    pred = output.cpu()\n",
    "    predictions[accum:new_accum, 0] = pred[:, 0].detach().numpy()\n",
    "    predictions[accum:new_accum, 1] = batch['y'][:, 0].cpu().numpy()\n",
    "    accum = new_accum\n",
    "\n",
    "print(\"test set loss: {}\".format(test_loss))"
   ]
  },
  {
   "cell_type": "code",
   "execution_count": 6,
   "metadata": {},
   "outputs": [],
   "source": [
    "def graph_roc_preds(predictions,title):\n",
    "    fpr, tpr, thresholds = roc_curve(predictions[:,1],predictions[:,0])\n",
    "    roc_auc = auc(fpr,tpr)\n",
    "    plt.figure()\n",
    "    lw = 2\n",
    "    plt.plot(fpr, tpr, color='darkorange',\n",
    "             lw=lw, label='ROC curve (area = %0.2f)' % roc_auc)\n",
    "    plt.plot([0, 1], [0, 1], color='navy', lw=lw, linestyle='--')\n",
    "    plt.xlim([0.0, 1.0])\n",
    "    plt.ylim([0.0, 1.05])\n",
    "    plt.xlabel('False Positive Rate')\n",
    "    plt.ylabel('True Positive Rate')\n",
    "    plt.title(title)\n",
    "    plt.legend(loc=\"lower right\")"
   ]
  },
  {
   "cell_type": "code",
   "execution_count": 8,
   "metadata": {},
   "outputs": [
    {
     "data": {
      "image/png": "[encoded data removed]",
      "text/plain": [
       "<Figure size 432x288 with 1 Axes>"
      ]
     },
     "metadata": {
      "needs_background": "light"
     },
     "output_type": "display_data"
    }
   ],
   "source": [
    "graph_roc_preds(predictions, \"Sparse Node Edge Conditioned Net ROC\")"
   ]
  },
  {
   "cell_type": "code",
   "execution_count": null,
   "metadata": {},
   "outputs": [],
   "source": []
  }
 ],
 "metadata": {
  "kernelspec": {
   "display_name": "geo_gcn",
   "language": "python",
   "name": "geo_gcn"
  },
  "language_info": {
   "codemirror_mode": {
    "name": "ipython",
    "version": 3
   },
   "file_extension": ".py",
   "mimetype": "text/x-python",
   "name": "python",
   "nbconvert_exporter": "python",
   "pygments_lexer": "ipython3",
   "version": "3.7.4"
  }
 },
 "nbformat": 4,
 "nbformat_minor": 2
}
